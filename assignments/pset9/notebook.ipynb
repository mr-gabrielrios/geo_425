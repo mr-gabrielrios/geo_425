{
 "cells": [
  {
   "cell_type": "code",
   "execution_count": 202,
   "id": "dbf4532a-13c6-49e2-bb71-3dd819fd8f83",
   "metadata": {},
   "outputs": [],
   "source": [
    "import matplotlib.pyplot as plt\n",
    "import matplotlib.animation as animation\n",
    "from matplotlib.ticker import FormatStrFormatter\n",
    "import numpy as np"
   ]
  },
  {
   "cell_type": "markdown",
   "id": "b95a620e-c99f-4802-b888-f43d5ca681c2",
   "metadata": {},
   "source": [
    "### Problem 1"
   ]
  },
  {
   "cell_type": "code",
   "execution_count": 582,
   "id": "f8f88dca-6f00-47a7-af94-a258d42ae034",
   "metadata": {},
   "outputs": [],
   "source": [
    "plt.rcParams[\"animation.html\"] = \"jshtml\"\n",
    "plt.ioff()\n",
    "plt.cla()\n",
    "\n",
    "# Define constants\n",
    "L = 1\n",
    "H = -1000\n",
    "sigma = 1\n",
    "rho = 1030\n",
    "\n",
    "k = 0.1/H\n",
    "\n",
    "x = np.linspace(0, L, 100)\n",
    "z = np.linspace(0, H, 100)\n",
    "t = 3\n",
    "\n",
    "# Set up plotting\n",
    "fig, ax = plt.subplots(figsize=(6, 4), ncols=2, constrained_layout=True)\n",
    "# Factor\n",
    "m = 10\n",
    "\n",
    "# Animation function\n",
    "def animate(t):\n",
    "    # Clear past iteration's data\n",
    "    ax[0].cla()\n",
    "    ax[1].cla()\n",
    "    # Change time factor\n",
    "    t = t / m\n",
    "    # Self-derived\n",
    "    u = (k/(sigma*rho))*np.cosh(k*(z-H))*np.cos(k*x - sigma*t)\n",
    "    w = (k/(sigma*rho))*np.sinh(k*(z-H))*np.sin(k*x - sigma*t)\n",
    "    # Plot\n",
    "    im_u = ax[0].plot(u, z, label='u')\n",
    "    im_w = ax[0].plot(w, z, label='w')\n",
    "    ax[1].scatter(u[0], w[0], c='red', label='point')\n",
    "    # Figure formatting\n",
    "    ax[0].set_xlabel('velocity')\n",
    "    ax[0].set_ylabel('H')\n",
    "    ax[1].set_xlabel('u')\n",
    "    ax[1].set_ylabel('w')\n",
    "    \n",
    "    ax[0].set_xlim([5e-3*k, -5e-3*k])\n",
    "    ax[1].set_xlim([5e-3*k, -5e-3*k])\n",
    "    ax[0].set_ylim([H, 0])\n",
    "    ax[1].set_ylim(ax[1].get_xlim())\n",
    "    ax[0].yaxis.set_major_formatter(FormatStrFormatter('%.2f'))\n",
    "    ax[1].yaxis.set_major_formatter(FormatStrFormatter('%.2f'))\n",
    "    \n",
    "    ax[0].set_title('Time: {0:.2f} s | kH = {1:.2f}'.format(t, k*H), loc='center', y=1.05)\n",
    "    \n",
    "    ax[0].legend(ncol=1, frameon=False, loc='lower right')\n",
    "    \n",
    "    # fig.tight_layout()\n",
    "\n",
    "# Animation generation and save settings\n",
    "intv = 50 \n",
    "fps = 1000/intv\n",
    "ani = animation.FuncAnimation(fig, animate, frames=int(np.ceil(2*np.pi*sigma*m)), interval=intv)\n",
    "ani.save('figs/p2_kh0_1.gif', dpi=96)"
   ]
  },
  {
   "cell_type": "markdown",
   "id": "70f99f7b-0723-4a64-afa6-f147011c24aa",
   "metadata": {},
   "source": [
    "### Problem 2"
   ]
  },
  {
   "cell_type": "code",
   "execution_count": 112,
   "id": "07206f23-acb4-435b-90bb-1da64492781d",
   "metadata": {},
   "outputs": [],
   "source": [
    "data = {'Juneau': \n",
    "            {'lat': 58.3,\n",
    "             'lon': -134.4,\n",
    "             'dt': 103},\n",
    "        'San Diego': \n",
    "            {'lat': 32.72,\n",
    "             'lon': -117.2,\n",
    "             'dt': 84}}\n",
    "\n",
    "R = 6373e3\n",
    "\n",
    "lon1, lat1 = data['San Diego']['lon']*np.pi/180, data['San Diego']['lat']*np.pi/180\n",
    "lon2, lat2 = data['Juneau']['lon']*np.pi/180, data['Juneau']['lat']*np.pi/180\n",
    "\n",
    "dlon = lon2 - lon1\n",
    "dlat = lat2 - lat1\n",
    "\n",
    "a = np.sin(dlat / 2)**2 + np.cos(lat1) * np.cos(lat2) * np.sin(dlon / 2)**2\n",
    "c = 2 * np.arctan2(np.sqrt(a), np.sqrt(1 - a))\n",
    "dist = R * c"
   ]
  },
  {
   "cell_type": "code",
   "execution_count": 177,
   "id": "3629b1f3-9e55-41e9-b5be-8d8ca6ee6981",
   "metadata": {},
   "outputs": [],
   "source": [
    "dts = 84*3600\n",
    "dtj = 103*3600\n",
    "dl = 20*3600\n",
    "lsj = dist\n",
    "\n",
    "# Seconds from wave origin\n",
    "lts = dl*dts/(dtj-dts)\n",
    "ltj = dl + lts\n",
    "\n",
    "# Frequencies (Hz)\n",
    "f1 = 0.78/(2*np.pi)\n",
    "f2 = 1.11/(2*np.pi)\n",
    "\n",
    "# Angle between wave vectors\n",
    "theta = np.arccos((lts**2 + ltj**2 - (lsj*(f2-f1))**2)/(2*lts*ltj))\n",
    "\n",
    "# Angle of the Juneau vector in the triangulation process\n",
    "tj = np.arcsin(lts*np.sin(theta)/(lsj*(f2-f1)))\n",
    "\n",
    "# Angle of the San Diego vector in the triangulation process\n",
    "ts = np.arcsin(ltj*np.sin(theta)/(lsj*(f2-f1)))"
   ]
  },
  {
   "cell_type": "code",
   "execution_count": 178,
   "id": "41a62ddf-0828-4249-9af4-de5154ff7ad1",
   "metadata": {},
   "outputs": [
    {
     "data": {
      "text/plain": [
       "153.33188294464782"
      ]
     },
     "execution_count": 178,
     "metadata": {},
     "output_type": "execute_result"
    }
   ],
   "source": [
    "(ts + tj + theta)*180/np.pi"
   ]
  },
  {
   "cell_type": "code",
   "execution_count": 176,
   "id": "f763e1b3-eb77-4432-a796-754bb5ad7be2",
   "metadata": {},
   "outputs": [
    {
     "data": {
      "text/plain": [
       "52.51839799218744"
      ]
     },
     "execution_count": 176,
     "metadata": {},
     "output_type": "execute_result"
    }
   ],
   "source": [
    "tj*180/np.pi"
   ]
  },
  {
   "cell_type": "markdown",
   "id": "e95b0034-ec00-41ab-8ea6-b08e0e3d0e9d",
   "metadata": {},
   "source": [
    "Try again"
   ]
  },
  {
   "cell_type": "code",
   "execution_count": 251,
   "id": "e1593512-21a3-41dd-843b-2d07df56ae72",
   "metadata": {},
   "outputs": [],
   "source": [
    "w1 = 0.78 # rad s^-1\n",
    "w2 = 1.11 # rad s^-1\n",
    "\n",
    "g = 9.81 # m s^-2\n",
    "c1 = g/(w1/(2*np.pi)) # first wave speed\n",
    "c2 = g/(w2/(2*np.pi)) # second wave speed\n",
    "\n",
    "dt1 = 20*3600 # Difference in first wave arrival time from SD to Juneau (s)\n",
    "dt2 = 39*3600 # Difference in second wave arrival time from SD to Juneau (s)\n",
    "dts = 84*3600 # Difference in times between wave peaks at SD (s)\n",
    "dtj = 103*3600 # Difference in times between wave peaks at Juneau (s)\n",
    "\n",
    "ts1 = dt1*d/(dt2-dt1) # Seconds between first wave source emission and arrival in SD\n",
    "tj1 = ts1 + dt1 # Seconds between first wave source emission and arrival in Juneau\n",
    "ts2 = ts1 + d # Seconds between second wave source emission and arrival in SD\n",
    "tj2 = ts2 + dt2 # Seconds between second wave source emission and arrival in Juneau\n",
    "\n",
    "ls = c1*ts1 # distance between wave source and SD"
   ]
  },
  {
   "cell_type": "code",
   "execution_count": 504,
   "id": "522a999c-cb2a-44d4-9697-03ae75662700",
   "metadata": {},
   "outputs": [],
   "source": [
    "w1 = 0.78 # rad s^-1\n",
    "w2 = 1.11 # rad s^-1\n",
    "\n",
    "g = 9.81 # m s^-2\n",
    "c1 = g/(w1) # first wave speed\n",
    "c2 = g/(w2) # second wave speed\n",
    "lsj = 3125850 # Distance from Juneau to SD\n",
    "d = 1911000 # Longitudinal distance from San Diego to Juneau, assuming cylindrical Earth\n",
    "\n",
    "dt1 = 20*3600 # Difference in first wave arrival time from SD to Juneau (s)\n",
    "dt2 = 39*3600 # Difference in second wave arrival time from SD to Juneau (s)\n",
    "dts = 84*3600 # Difference in times between wave peaks at SD (s)\n",
    "dtj = 103*3600 # Difference in times between wave peaks at Juneau (s)\n",
    "\n",
    "ts1 = c2*dts/(c1-c2) # Time for first wave to get to SD\n",
    "tj1 = ts1 + dt1 # Time for first wave to get to Juneau\n",
    "ts2 = ts1 + dts # Time for second wave to get to SD\n",
    "tj2 = tj1 + dtj # Time for second wave to get to Juneau\n",
    "\n",
    "ls = c1*ts1 # Distance from storm to SD\n",
    "lj = c1*tj1 # Distance from storm to Juneau\n",
    "\n",
    "theta = np.arccos((ls**2 + lj**2 - lsj**2)/(2*ls*lj))\n",
    "alpha = np.arcsin(lj*np.sin(theta)/lsj)\n",
    "beta = np.arcsin(ls*np.sin(theta)/lsj)\n",
    "\n",
    "# Angles to derive storm coordinates from Juneau\n",
    "eps = np.pi/2 - np.arcsin(d/lsj)\n",
    "zeta = np.pi - beta - eps\n",
    "# Storm coordinates with Juneau reference\n",
    "xj, yj = lj*np.cos(zeta), lj*np.sin(zeta)\n",
    "lat_j = data['Juneau']['lat'] - yj/110567\n",
    "lon_j = data['Juneau']['lon'] - xj/111321\n",
    "\n",
    "# Angles to derive storm coordinates from SD\n",
    "gamma = np.arcsin(d/lsj)\n",
    "psi = np.pi/2 - gamma - alpha\n",
    "# Storm coordinates with SD reference\n",
    "xs, ys = ls*np.cos(psi), ls*np.sin(psi)\n",
    "lat_s = data['San Diego']['lat'] + ys/110567\n",
    "lon_s = data['San Diego']['lon'] - xs/111321"
   ]
  },
  {
   "cell_type": "code",
   "execution_count": 505,
   "id": "57d1c804-a70a-4fc7-bf69-761fe8a07fb0",
   "metadata": {},
   "outputs": [
    {
     "data": {
      "text/plain": [
       "(-21.744925693352585, -174.1533710705399)"
      ]
     },
     "execution_count": 505,
     "metadata": {},
     "output_type": "execute_result"
    }
   ],
   "source": [
    "lat_j, lon_j"
   ]
  },
  {
   "cell_type": "code",
   "execution_count": 507,
   "id": "1acf3f1d-5ec9-4c60-96d0-bfa7b666ba79",
   "metadata": {},
   "outputs": [
    {
     "data": {
      "text/plain": [
       "(-8.169353494767151, 173.0023454330116)"
      ]
     },
     "execution_count": 507,
     "metadata": {},
     "output_type": "execute_result"
    }
   ],
   "source": [
    "lat_s, 360+lon_s"
   ]
  },
  {
   "cell_type": "code",
   "execution_count": 515,
   "id": "7e2b0ecf-ff11-41a5-9e11-84d08096bc87",
   "metadata": {},
   "outputs": [
    {
     "data": {
      "text/plain": [
       "9.106060606060604"
      ]
     },
     "execution_count": 515,
     "metadata": {},
     "output_type": "execute_result"
    }
   ],
   "source": [
    "tj1/(3600*24)"
   ]
  },
  {
   "cell_type": "code",
   "execution_count": 518,
   "id": "5ae2362f-0a8d-4470-9946-39868d2fe68d",
   "metadata": {},
   "outputs": [
    {
     "data": {
      "text/plain": [
       "9895.065734265732"
      ]
     },
     "execution_count": 518,
     "metadata": {},
     "output_type": "execute_result"
    }
   ],
   "source": [
    "lj/1000"
   ]
  },
  {
   "cell_type": "code",
   "execution_count": 519,
   "id": "0fe5917c-7df1-4b42-b3ed-51db10ae7a57",
   "metadata": {},
   "outputs": [
    {
     "data": {
      "text/plain": [
       "3125850"
      ]
     },
     "execution_count": 519,
     "metadata": {},
     "output_type": "execute_result"
    }
   ],
   "source": [
    "lsj"
   ]
  },
  {
   "cell_type": "code",
   "execution_count": 528,
   "id": "0b0f16cb-48fc-430c-bc05-4324bdd52d70",
   "metadata": {},
   "outputs": [
    {
     "data": {
      "text/plain": [
       "8850327.299136914"
      ]
     },
     "execution_count": 528,
     "metadata": {},
     "output_type": "execute_result"
    }
   ],
   "source": [
    "yj"
   ]
  },
  {
   "cell_type": "code",
   "execution_count": null,
   "id": "caa1588f-4b81-4337-a89c-bbc8565f050a",
   "metadata": {},
   "outputs": [],
   "source": []
  }
 ],
 "metadata": {
  "kernelspec": {
   "display_name": "Python 3 (ipykernel)",
   "language": "python",
   "name": "python3"
  },
  "language_info": {
   "codemirror_mode": {
    "name": "ipython",
    "version": 3
   },
   "file_extension": ".py",
   "mimetype": "text/x-python",
   "name": "python",
   "nbconvert_exporter": "python",
   "pygments_lexer": "ipython3",
   "version": "3.10.5"
  }
 },
 "nbformat": 4,
 "nbformat_minor": 5
}
